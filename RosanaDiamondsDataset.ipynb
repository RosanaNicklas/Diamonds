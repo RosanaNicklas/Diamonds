{
 "cells": [
  {
   "cell_type": "markdown",
   "id": "1318fce8",
   "metadata": {},
   "source": [
    "# Ejercicio: Diamonds Dataset"
   ]
  },
  {
   "attachments": {},
   "cell_type": "markdown",
   "id": "03491b66",
   "metadata": {},
   "source": [
    "* El ejercicio puntua un Máximo de 10 puntos.\n",
    "* Lea el ejercicio detenidamente y realice cada uno de los apartados.\n",
    "* En caso de duda puede consultar internet para su realización.\n"
   ]
  },
  {
   "cell_type": "code",
   "execution_count": 1,
   "id": "4e2f995c",
   "metadata": {},
   "outputs": [],
   "source": [
    "import warnings\n",
    "warnings.filterwarnings(\"ignore\")\n",
    "import seaborn as sns\n",
    "import pandas as pd\n",
    "import numpy as np\n",
    "import matplotlib.pyplot as plt\n",
    "import plotly.express as px\n",
    "from sklearn.preprocessing import MinMaxScaler , StandardScaler, LabelEncoder\n",
    "from sklearn import datasets, linear_model\n",
    "from sklearn import preprocessing\n",
    "from sklearn.preprocessing import Normalizer , scale"
   ]
  },
  {
   "cell_type": "markdown",
   "id": "fae3510b",
   "metadata": {},
   "source": [
    "1) Realizar el Data Mining del set de datos, representando los distintos datos, si existe si o no correlación, etc.\n",
    "\n",
    "    Añadir conclusiones observadas de los datos (2 ptos)"
   ]
  },
  {
   "cell_type": "code",
   "execution_count": 2,
   "id": "3fc5ff62",
   "metadata": {},
   "outputs": [
    {
     "data": {
      "text/html": [
       "<div>\n",
       "<style scoped>\n",
       "    .dataframe tbody tr th:only-of-type {\n",
       "        vertical-align: middle;\n",
       "    }\n",
       "\n",
       "    .dataframe tbody tr th {\n",
       "        vertical-align: top;\n",
       "    }\n",
       "\n",
       "    .dataframe thead th {\n",
       "        text-align: right;\n",
       "    }\n",
       "</style>\n",
       "<table border=\"1\" class=\"dataframe\">\n",
       "  <thead>\n",
       "    <tr style=\"text-align: right;\">\n",
       "      <th></th>\n",
       "      <th>carat</th>\n",
       "      <th>cut</th>\n",
       "      <th>color</th>\n",
       "      <th>clarity</th>\n",
       "      <th>depth</th>\n",
       "      <th>table</th>\n",
       "      <th>price</th>\n",
       "      <th>x</th>\n",
       "      <th>y</th>\n",
       "      <th>z</th>\n",
       "    </tr>\n",
       "  </thead>\n",
       "  <tbody>\n",
       "    <tr>\n",
       "      <th>1</th>\n",
       "      <td>0.23</td>\n",
       "      <td>Ideal</td>\n",
       "      <td>E</td>\n",
       "      <td>SI2</td>\n",
       "      <td>61.5</td>\n",
       "      <td>55.0</td>\n",
       "      <td>326</td>\n",
       "      <td>3.95</td>\n",
       "      <td>3.98</td>\n",
       "      <td>2.43</td>\n",
       "    </tr>\n",
       "    <tr>\n",
       "      <th>2</th>\n",
       "      <td>0.21</td>\n",
       "      <td>Premium</td>\n",
       "      <td>E</td>\n",
       "      <td>SI1</td>\n",
       "      <td>59.8</td>\n",
       "      <td>61.0</td>\n",
       "      <td>326</td>\n",
       "      <td>3.89</td>\n",
       "      <td>3.84</td>\n",
       "      <td>2.31</td>\n",
       "    </tr>\n",
       "    <tr>\n",
       "      <th>3</th>\n",
       "      <td>0.23</td>\n",
       "      <td>Good</td>\n",
       "      <td>E</td>\n",
       "      <td>VS1</td>\n",
       "      <td>56.9</td>\n",
       "      <td>65.0</td>\n",
       "      <td>327</td>\n",
       "      <td>4.05</td>\n",
       "      <td>4.07</td>\n",
       "      <td>2.31</td>\n",
       "    </tr>\n",
       "    <tr>\n",
       "      <th>4</th>\n",
       "      <td>0.29</td>\n",
       "      <td>Premium</td>\n",
       "      <td>I</td>\n",
       "      <td>VS2</td>\n",
       "      <td>62.4</td>\n",
       "      <td>58.0</td>\n",
       "      <td>334</td>\n",
       "      <td>4.20</td>\n",
       "      <td>4.23</td>\n",
       "      <td>2.63</td>\n",
       "    </tr>\n",
       "    <tr>\n",
       "      <th>5</th>\n",
       "      <td>0.31</td>\n",
       "      <td>Good</td>\n",
       "      <td>J</td>\n",
       "      <td>SI2</td>\n",
       "      <td>63.3</td>\n",
       "      <td>58.0</td>\n",
       "      <td>335</td>\n",
       "      <td>4.34</td>\n",
       "      <td>4.35</td>\n",
       "      <td>2.75</td>\n",
       "    </tr>\n",
       "  </tbody>\n",
       "</table>\n",
       "</div>"
      ],
      "text/plain": [
       "   carat      cut color clarity  depth  table  price     x     y     z\n",
       "1   0.23    Ideal     E     SI2   61.5   55.0    326  3.95  3.98  2.43\n",
       "2   0.21  Premium     E     SI1   59.8   61.0    326  3.89  3.84  2.31\n",
       "3   0.23     Good     E     VS1   56.9   65.0    327  4.05  4.07  2.31\n",
       "4   0.29  Premium     I     VS2   62.4   58.0    334  4.20  4.23  2.63\n",
       "5   0.31     Good     J     SI2   63.3   58.0    335  4.34  4.35  2.75"
      ]
     },
     "execution_count": 2,
     "metadata": {},
     "output_type": "execute_result"
    }
   ],
   "source": [
    "df = pd.read_csv(\"diamonds.csv\",index_col=0)\n",
    "df.head()"
   ]
  },
  {
   "cell_type": "markdown",
   "id": "9611c6cc",
   "metadata": {},
   "source": [
    "# Presentacion del Dataset Diamonds"
   ]
  },
  {
   "cell_type": "markdown",
   "id": "8855ffae",
   "metadata": {},
   "source": [
    "Este conjunto de datos clásico, contiene los precios y otros atributos de casi 53920 diamantes. Se han reducido las columnas a 8 quedando de esta manera:\n",
    "\n",
    "1.price : precio en dolares americanos ( 326− 18 823 )\n",
    "\n",
    "2.carat : peso del diamante (0,2 - 5,01)\n",
    "\n",
    "3.cut : calidad del corte ( Regular , Buena , Muy Buena , Premium , Ideal )\n",
    "\n",
    "4.color : color diamante, de J (peor) a D (mejor)\n",
    "\n",
    "5.clarity : una medida de la claridad del diamante (I1 (peor) ,SI2 ,SI1 ,VS2 ,VS1 ,VVS2 ,VVS1 ,IF (mejor))\n",
    "\n",
    "Volume que esta formada por x,y,z.(Largo, Ancho y Profundo del diamante).\n",
    "x : longitud en mm ( 0 - 10,74 )\n",
    "\n",
    "y : ancho en mm ( 0 - 58.9 )\n",
    "\n",
    "z : profundidad en mm ( 0 - 31,8 )\n",
    "\n",
    "7.deph : porcentaje de profundidad total = z / media( x, y ) = 2 * z / ( x + y ) --> ( 43 - 79 )\n",
    "\n",
    "8.table : ancho de la parte superior del diamante en relación con el punto más ancho (43 - 95)"
   ]
  },
  {
   "cell_type": "markdown",
   "id": "d66519bd",
   "metadata": {},
   "source": [
    "# 1.Data Mining"
   ]
  },
  {
   "cell_type": "markdown",
   "id": "b8f5d2e5",
   "metadata": {},
   "source": [
    "Primero crearemos una columna de \"Volumen\" con los valores de las columnas x,y,z. Así podré trabajar mejor los datos."
   ]
  },
  {
   "cell_type": "code",
   "execution_count": 3,
   "id": "b3baecc3",
   "metadata": {},
   "outputs": [
    {
     "data": {
      "text/html": [
       "<div>\n",
       "<style scoped>\n",
       "    .dataframe tbody tr th:only-of-type {\n",
       "        vertical-align: middle;\n",
       "    }\n",
       "\n",
       "    .dataframe tbody tr th {\n",
       "        vertical-align: top;\n",
       "    }\n",
       "\n",
       "    .dataframe thead th {\n",
       "        text-align: right;\n",
       "    }\n",
       "</style>\n",
       "<table border=\"1\" class=\"dataframe\">\n",
       "  <thead>\n",
       "    <tr style=\"text-align: right;\">\n",
       "      <th></th>\n",
       "      <th>carat</th>\n",
       "      <th>cut</th>\n",
       "      <th>color</th>\n",
       "      <th>clarity</th>\n",
       "      <th>depth</th>\n",
       "      <th>table</th>\n",
       "      <th>price</th>\n",
       "      <th>x</th>\n",
       "      <th>y</th>\n",
       "      <th>z</th>\n",
       "    </tr>\n",
       "  </thead>\n",
       "  <tbody>\n",
       "    <tr>\n",
       "      <th>1</th>\n",
       "      <td>0.23</td>\n",
       "      <td>Ideal</td>\n",
       "      <td>E</td>\n",
       "      <td>SI2</td>\n",
       "      <td>61.5</td>\n",
       "      <td>55.0</td>\n",
       "      <td>326</td>\n",
       "      <td>3.95</td>\n",
       "      <td>3.98</td>\n",
       "      <td>2.43</td>\n",
       "    </tr>\n",
       "    <tr>\n",
       "      <th>2</th>\n",
       "      <td>0.21</td>\n",
       "      <td>Premium</td>\n",
       "      <td>E</td>\n",
       "      <td>SI1</td>\n",
       "      <td>59.8</td>\n",
       "      <td>61.0</td>\n",
       "      <td>326</td>\n",
       "      <td>3.89</td>\n",
       "      <td>3.84</td>\n",
       "      <td>2.31</td>\n",
       "    </tr>\n",
       "    <tr>\n",
       "      <th>3</th>\n",
       "      <td>0.23</td>\n",
       "      <td>Good</td>\n",
       "      <td>E</td>\n",
       "      <td>VS1</td>\n",
       "      <td>56.9</td>\n",
       "      <td>65.0</td>\n",
       "      <td>327</td>\n",
       "      <td>4.05</td>\n",
       "      <td>4.07</td>\n",
       "      <td>2.31</td>\n",
       "    </tr>\n",
       "    <tr>\n",
       "      <th>4</th>\n",
       "      <td>0.29</td>\n",
       "      <td>Premium</td>\n",
       "      <td>I</td>\n",
       "      <td>VS2</td>\n",
       "      <td>62.4</td>\n",
       "      <td>58.0</td>\n",
       "      <td>334</td>\n",
       "      <td>4.20</td>\n",
       "      <td>4.23</td>\n",
       "      <td>2.63</td>\n",
       "    </tr>\n",
       "    <tr>\n",
       "      <th>5</th>\n",
       "      <td>0.31</td>\n",
       "      <td>Good</td>\n",
       "      <td>J</td>\n",
       "      <td>SI2</td>\n",
       "      <td>63.3</td>\n",
       "      <td>58.0</td>\n",
       "      <td>335</td>\n",
       "      <td>4.34</td>\n",
       "      <td>4.35</td>\n",
       "      <td>2.75</td>\n",
       "    </tr>\n",
       "  </tbody>\n",
       "</table>\n",
       "</div>"
      ],
      "text/plain": [
       "   carat      cut color clarity  depth  table  price     x     y     z\n",
       "1   0.23    Ideal     E     SI2   61.5   55.0    326  3.95  3.98  2.43\n",
       "2   0.21  Premium     E     SI1   59.8   61.0    326  3.89  3.84  2.31\n",
       "3   0.23     Good     E     VS1   56.9   65.0    327  4.05  4.07  2.31\n",
       "4   0.29  Premium     I     VS2   62.4   58.0    334  4.20  4.23  2.63\n",
       "5   0.31     Good     J     SI2   63.3   58.0    335  4.34  4.35  2.75"
      ]
     },
     "execution_count": 3,
     "metadata": {},
     "output_type": "execute_result"
    }
   ],
   "source": [
    "df.head()"
   ]
  },
  {
   "cell_type": "code",
   "execution_count": 4,
   "id": "4d3b283d",
   "metadata": {},
   "outputs": [
    {
     "data": {
      "text/html": [
       "<div>\n",
       "<style scoped>\n",
       "    .dataframe tbody tr th:only-of-type {\n",
       "        vertical-align: middle;\n",
       "    }\n",
       "\n",
       "    .dataframe tbody tr th {\n",
       "        vertical-align: top;\n",
       "    }\n",
       "\n",
       "    .dataframe thead th {\n",
       "        text-align: right;\n",
       "    }\n",
       "</style>\n",
       "<table border=\"1\" class=\"dataframe\">\n",
       "  <thead>\n",
       "    <tr style=\"text-align: right;\">\n",
       "      <th></th>\n",
       "      <th>carat</th>\n",
       "      <th>depth</th>\n",
       "      <th>table</th>\n",
       "      <th>price</th>\n",
       "      <th>x</th>\n",
       "      <th>y</th>\n",
       "      <th>z</th>\n",
       "    </tr>\n",
       "  </thead>\n",
       "  <tbody>\n",
       "    <tr>\n",
       "      <th>count</th>\n",
       "      <td>53940.000000</td>\n",
       "      <td>53940.000000</td>\n",
       "      <td>53940.000000</td>\n",
       "      <td>53940.000000</td>\n",
       "      <td>53940.000000</td>\n",
       "      <td>53940.000000</td>\n",
       "      <td>53940.000000</td>\n",
       "    </tr>\n",
       "    <tr>\n",
       "      <th>mean</th>\n",
       "      <td>0.797940</td>\n",
       "      <td>61.749405</td>\n",
       "      <td>57.457184</td>\n",
       "      <td>3932.799722</td>\n",
       "      <td>5.731157</td>\n",
       "      <td>5.734526</td>\n",
       "      <td>3.538734</td>\n",
       "    </tr>\n",
       "    <tr>\n",
       "      <th>std</th>\n",
       "      <td>0.474011</td>\n",
       "      <td>1.432621</td>\n",
       "      <td>2.234491</td>\n",
       "      <td>3989.439738</td>\n",
       "      <td>1.121761</td>\n",
       "      <td>1.142135</td>\n",
       "      <td>0.705699</td>\n",
       "    </tr>\n",
       "    <tr>\n",
       "      <th>min</th>\n",
       "      <td>0.200000</td>\n",
       "      <td>43.000000</td>\n",
       "      <td>43.000000</td>\n",
       "      <td>326.000000</td>\n",
       "      <td>0.000000</td>\n",
       "      <td>0.000000</td>\n",
       "      <td>0.000000</td>\n",
       "    </tr>\n",
       "    <tr>\n",
       "      <th>25%</th>\n",
       "      <td>0.400000</td>\n",
       "      <td>61.000000</td>\n",
       "      <td>56.000000</td>\n",
       "      <td>950.000000</td>\n",
       "      <td>4.710000</td>\n",
       "      <td>4.720000</td>\n",
       "      <td>2.910000</td>\n",
       "    </tr>\n",
       "    <tr>\n",
       "      <th>50%</th>\n",
       "      <td>0.700000</td>\n",
       "      <td>61.800000</td>\n",
       "      <td>57.000000</td>\n",
       "      <td>2401.000000</td>\n",
       "      <td>5.700000</td>\n",
       "      <td>5.710000</td>\n",
       "      <td>3.530000</td>\n",
       "    </tr>\n",
       "    <tr>\n",
       "      <th>75%</th>\n",
       "      <td>1.040000</td>\n",
       "      <td>62.500000</td>\n",
       "      <td>59.000000</td>\n",
       "      <td>5324.250000</td>\n",
       "      <td>6.540000</td>\n",
       "      <td>6.540000</td>\n",
       "      <td>4.040000</td>\n",
       "    </tr>\n",
       "    <tr>\n",
       "      <th>max</th>\n",
       "      <td>5.010000</td>\n",
       "      <td>79.000000</td>\n",
       "      <td>95.000000</td>\n",
       "      <td>18823.000000</td>\n",
       "      <td>10.740000</td>\n",
       "      <td>58.900000</td>\n",
       "      <td>31.800000</td>\n",
       "    </tr>\n",
       "  </tbody>\n",
       "</table>\n",
       "</div>"
      ],
      "text/plain": [
       "              carat         depth         table         price             x  \\\n",
       "count  53940.000000  53940.000000  53940.000000  53940.000000  53940.000000   \n",
       "mean       0.797940     61.749405     57.457184   3932.799722      5.731157   \n",
       "std        0.474011      1.432621      2.234491   3989.439738      1.121761   \n",
       "min        0.200000     43.000000     43.000000    326.000000      0.000000   \n",
       "25%        0.400000     61.000000     56.000000    950.000000      4.710000   \n",
       "50%        0.700000     61.800000     57.000000   2401.000000      5.700000   \n",
       "75%        1.040000     62.500000     59.000000   5324.250000      6.540000   \n",
       "max        5.010000     79.000000     95.000000  18823.000000     10.740000   \n",
       "\n",
       "                  y             z  \n",
       "count  53940.000000  53940.000000  \n",
       "mean       5.734526      3.538734  \n",
       "std        1.142135      0.705699  \n",
       "min        0.000000      0.000000  \n",
       "25%        4.720000      2.910000  \n",
       "50%        5.710000      3.530000  \n",
       "75%        6.540000      4.040000  \n",
       "max       58.900000     31.800000  "
      ]
     },
     "execution_count": 4,
     "metadata": {},
     "output_type": "execute_result"
    }
   ],
   "source": [
    "#Datos estadisticos del Dataset\n",
    "df.describe()"
   ]
  },
  {
   "cell_type": "code",
   "execution_count": 5,
   "id": "03e5bc5f",
   "metadata": {},
   "outputs": [
    {
     "data": {
      "text/plain": [
       "<bound method DataFrame.info of        carat        cut color clarity  depth  table  price     x     y     z\n",
       "1       0.23      Ideal     E     SI2   61.5   55.0    326  3.95  3.98  2.43\n",
       "2       0.21    Premium     E     SI1   59.8   61.0    326  3.89  3.84  2.31\n",
       "3       0.23       Good     E     VS1   56.9   65.0    327  4.05  4.07  2.31\n",
       "4       0.29    Premium     I     VS2   62.4   58.0    334  4.20  4.23  2.63\n",
       "5       0.31       Good     J     SI2   63.3   58.0    335  4.34  4.35  2.75\n",
       "...      ...        ...   ...     ...    ...    ...    ...   ...   ...   ...\n",
       "53936   0.72      Ideal     D     SI1   60.8   57.0   2757  5.75  5.76  3.50\n",
       "53937   0.72       Good     D     SI1   63.1   55.0   2757  5.69  5.75  3.61\n",
       "53938   0.70  Very Good     D     SI1   62.8   60.0   2757  5.66  5.68  3.56\n",
       "53939   0.86    Premium     H     SI2   61.0   58.0   2757  6.15  6.12  3.74\n",
       "53940   0.75      Ideal     D     SI2   62.2   55.0   2757  5.83  5.87  3.64\n",
       "\n",
       "[53940 rows x 10 columns]>"
      ]
     },
     "execution_count": 5,
     "metadata": {},
     "output_type": "execute_result"
    }
   ],
   "source": [
    "df.info"
   ]
  },
  {
   "cell_type": "code",
   "execution_count": 6,
   "id": "37391d83",
   "metadata": {},
   "outputs": [
    {
     "data": {
      "text/plain": [
       "(53940, 10)"
      ]
     },
     "execution_count": 6,
     "metadata": {},
     "output_type": "execute_result"
    }
   ],
   "source": [
    "#Filas y columnas de los datos.\n",
    "df.shape"
   ]
  },
  {
   "cell_type": "markdown",
   "id": "093d2699",
   "metadata": {},
   "source": [
    "El Dataset Diamonds tiene 53920 filas y 8 columnas ,ya que las columnas x,y,z las he unificado\n",
    "en la columna volumen."
   ]
  },
  {
   "cell_type": "markdown",
   "id": "dca06847",
   "metadata": {},
   "source": [
    "# CORRELACIÓN"
   ]
  },
  {
   "cell_type": "code",
   "execution_count": 7,
   "id": "ffda8334",
   "metadata": {},
   "outputs": [
    {
     "data": {
      "image/png": "[encoded data removed]",
      "text/plain": [
       "<Figure size 720x648 with 2 Axes>"
      ]
     },
     "metadata": {
      "needs_background": "light"
     },
     "output_type": "display_data"
    }
   ],
   "source": [
    "plt.figure(figsize=(10, 9))\n",
    "df_corr = df.corr()\n",
    "sns.heatmap(df_corr, cmap=sns.diverging_palette(250, 15, s=75, l=40, n=9, center=\"dark\"), annot=True)\n",
    "plt.title(\"Correlación del Diamonds Dataset\")\n",
    "plt.show()"
   ]
  },
  {
   "cell_type": "markdown",
   "id": "fdb52ce2",
   "metadata": {},
   "source": [
    "Vemos que existe más correlación entre carat-volume, carat-price, price-volume"
   ]
  },
  {
   "cell_type": "markdown",
   "id": "0947a1e6",
   "metadata": {},
   "source": [
    "# PLOT PRICE/CARAT"
   ]
  },
  {
   "cell_type": "code",
   "execution_count": 8,
   "id": "6364f390",
   "metadata": {},
   "outputs": [
    {
     "name": "stdout",
     "output_type": "stream",
     "text": [
      "Precio más alto del diamante en Diamonds Dataset:  18823\n"
     ]
    },
    {
     "data": {
      "image/png": "[encoded data removed]",
      "text/plain": [
       "<Figure size 1080x504 with 1 Axes>"
      ]
     },
     "metadata": {
      "needs_background": "light"
     },
     "output_type": "display_data"
    }
   ],
   "source": [
    "plt.figure(figsize=(15, 7))\n",
    "sns.distplot(df[\"price\"], color=\"#5E3434\")\n",
    "plt.xlabel(\"Price\")\n",
    "plt.title(\"Distribución de Precio del Diamonds Dataset\")\n",
    "print(\"Precio más alto del diamante en Diamonds Dataset: \", df[\"price\"].max())\n",
    "plt.show()"
   ]
  },
  {
   "cell_type": "code",
   "execution_count": 9,
   "id": "066b704c",
   "metadata": {},
   "outputs": [
    {
     "name": "stdout",
     "output_type": "stream",
     "text": [
      "Carat más alto del diamante en Diamonds Dataset:  5.01\n"
     ]
    },
    {
     "data": {
      "image/png": "[encoded data removed]",
      "text/plain": [
       "<Figure size 1080x504 with 1 Axes>"
      ]
     },
     "metadata": {
      "needs_background": "light"
     },
     "output_type": "display_data"
    }
   ],
   "source": [
    "plt.figure(figsize=(15, 7))\n",
    "sns.distplot(df[\"carat\"], color=\"#5E3434\")\n",
    "plt.xlabel(\"Carat\")\n",
    "plt.title(\"Distribución de Carat del Diamonds Dataset\")\n",
    "print(\"Carat más alto del diamante en Diamonds Dataset: \", df[\"carat\"].max())\n",
    "plt.show()"
   ]
  },
  {
   "cell_type": "code",
   "execution_count": 10,
   "id": "b4cf9d7e",
   "metadata": {},
   "outputs": [
    {
     "data": {
      "image/png": "[encoded data removed]",
      "text/plain": [
       "<Figure size 1080x504 with 1 Axes>"
      ]
     },
     "metadata": {
      "needs_background": "light"
     },
     "output_type": "display_data"
    }
   ],
   "source": [
    "plt.figure(figsize=(15, 7))\n",
    "sns.boxplot(x=\"cut\", y=\"price\", data=df, palette=sns.color_palette(\"cubehelix\", 5),\n",
    "order=[\"Fair\", \"Good\", \"Very Good\", \"Premium\", \"Ideal\"])\n",
    "plt.xlabel(\"Cut\")\n",
    "plt.ylabel(\"Price\")\n",
    "plt.show()"
   ]
  },
  {
   "cell_type": "markdown",
   "id": "0ba56de8",
   "metadata": {},
   "source": [
    "Se observa que todos los Outliers se presentan en valores máximos y\n",
    "el número de observaciones es mayor en ideal."
   ]
  },
  {
   "cell_type": "markdown",
   "id": "142c43bc",
   "metadata": {},
   "source": [
    "# PLOT CUT/PRICE"
   ]
  },
  {
   "cell_type": "code",
   "execution_count": 11,
   "id": "ada61b12",
   "metadata": {},
   "outputs": [
    {
     "data": {
      "image/png": "[encoded data removed]",
      "text/plain": [
       "<Figure size 1080x504 with 1 Axes>"
      ]
     },
     "metadata": {
      "needs_background": "light"
     },
     "output_type": "display_data"
    }
   ],
   "source": [
    "#Distribución por Corte y Numero de observaciones.\n",
    "plt.figure(figsize= (15, 7))\n",
    "sns.countplot(x= \"cut\", data= df, palette= sns.color_palette(\"cubehelix\", 5),\n",
    "              order=[\"Fair\", \"Good\", \"Very Good\", \"Premium\", \"Ideal\"])\n",
    "plt.xlabel(\"Cut\")\n",
    "plt.ylabel(\"Number of Observations\")\n",
    "plt.show()"
   ]
  },
  {
   "cell_type": "code",
   "execution_count": 12,
   "id": "ad3d0029",
   "metadata": {},
   "outputs": [
    {
     "data": {
      "image/png": "[encoded data removed]",
      "text/plain": [
       "<Figure size 1080x504 with 1 Axes>"
      ]
     },
     "metadata": {
      "needs_background": "light"
     },
     "output_type": "display_data"
    }
   ],
   "source": [
    "#Distribución corte, precio\n",
    "plt.figure(figsize= (15, 7))\n",
    "sns.boxplot(x= \"cut\", y= \"price\", data= df, palette= sns.color_palette(\"cubehelix\", 5),\n",
    "            order=[\"Fair\", \"Good\", \"Very Good\", \"Premium\", \"Ideal\"])\n",
    "plt.xlabel(\"Cut\")\n",
    "plt.ylabel(\"Price\")\n",
    "plt.show()"
   ]
  },
  {
   "cell_type": "markdown",
   "id": "f9a60a04",
   "metadata": {},
   "source": [
    "# PLOT CLARITY/PRICE"
   ]
  },
  {
   "cell_type": "code",
   "execution_count": 13,
   "id": "9c94f6b3",
   "metadata": {},
   "outputs": [
    {
     "data": {
      "image/png": "[encoded data removed]",
      "text/plain": [
       "<Figure size 1080x504 with 1 Axes>"
      ]
     },
     "metadata": {
      "needs_background": "light"
     },
     "output_type": "display_data"
    }
   ],
   "source": [
    "#Ditribución claridad, observaciones.\n",
    "plt.figure(figsize= (15, 7))\n",
    "sns.countplot(x= \"clarity\", data= df, order=[\"I1\", \"SI2\", \"SI1\", \"VS2\", \"VS1\", \"VVS2\", \"VVS1\", \"IF\"], palette= \"Set2\")\n",
    "plt.xlabel(\"Clarity\")\n",
    "plt.ylabel(\"Number of Observations\")\n",
    "plt.show()"
   ]
  },
  {
   "cell_type": "code",
   "execution_count": 14,
   "id": "9967dd42",
   "metadata": {},
   "outputs": [
    {
     "data": {
      "image/png": "[encoded data removed]",
      "text/plain": [
       "<Figure size 1080x504 with 1 Axes>"
      ]
     },
     "metadata": {
      "needs_background": "light"
     },
     "output_type": "display_data"
    }
   ],
   "source": [
    "plt.figure(figsize= (15, 7))\n",
    "sns.violinplot(x= \"clarity\", y= \"price\", data= df,\n",
    "            order=[\"I1\", \"SI2\", \"SI1\", \"VS2\", \"VS1\", \"VVS2\", \"VVS1\", \"IF\"], palette= \"Set2\")\n",
    "plt.xlabel(\"Clarity\")\n",
    "plt.ylabel(\"Price\")\n",
    "plt.show()"
   ]
  },
  {
   "cell_type": "markdown",
   "id": "ce8db0c8",
   "metadata": {},
   "source": [
    "# PLOT COLOR /PRICE"
   ]
  },
  {
   "cell_type": "code",
   "execution_count": 15,
   "id": "f7fe478c",
   "metadata": {},
   "outputs": [
    {
     "data": {
      "image/png": "[encoded data removed]",
      "text/plain": [
       "<Figure size 1080x504 with 1 Axes>"
      ]
     },
     "metadata": {
      "needs_background": "light"
     },
     "output_type": "display_data"
    }
   ],
   "source": [
    "#Distribucion color observaciones\n",
    "plt.figure(figsize= (15, 7))\n",
    "sns.countplot(x= \"color\", data= df, order=[\"J\", \"I\", \"H\", \"G\", \"F\", \"E\", \"D\"])\n",
    "plt.xlabel(\"Color\")\n",
    "plt.ylabel(\"Number of Observations\")\n",
    "plt.show()"
   ]
  },
  {
   "cell_type": "code",
   "execution_count": 16,
   "id": "34675e9c",
   "metadata": {},
   "outputs": [
    {
     "data": {
      "image/png": "[encoded data removed]",
      "text/plain": [
       "<Figure size 1080x504 with 1 Axes>"
      ]
     },
     "metadata": {
      "needs_background": "light"
     },
     "output_type": "display_data"
    }
   ],
   "source": [
    "#distribucion color, precio\n",
    "plt.figure(figsize= (15, 7))\n",
    "sns.boxplot(x= \"color\", y= \"price\", data= df, order=[\"J\", \"I\", \"H\", \"G\", \"F\", \"E\", \"D\"])\n",
    "plt.xlabel(\"Color\")\n",
    "plt.ylabel(\"Price\")\n",
    "plt.show()"
   ]
  },
  {
   "cell_type": "markdown",
   "id": "55751b1d",
   "metadata": {},
   "source": [
    "# CONCLUSIONES"
   ]
  },
  {
   "cell_type": "markdown",
   "id": "3371a2c3",
   "metadata": {},
   "source": [
    "1.La profundidad está inversamente relacionada con el precio.\n",
    "\n",
    "2.El precio del diamante esta altamente relacionado con el quilate y sus\n",
    "  dimensiones. Esto se debe a que si el porcentaje de profundidad de un diamante es demasiado grande o pequeño, el diamante se volverá 'oscuro' en apariencia porque ya no devolverá una cantidad atractiva de luz.\n",
    "  \n",
    "3.Los quilates del diamante son lo que más influye en su precio, cuanto mas grande es la\n",
    "  piedra mayor es el precio, un diamante de 2 quilates será más 'caro' que el costo total de dos diamantes de 1 quilate de la \n",
    "  misma calidad.\n",
    "  \n",
    "4. El precio más alto del diamante en Diamonds Dataset:  18823$.\n",
    " \n",
    "5. El diamante que mas quilates tiene en Diamonds Dataset es de  5.01q.\n"
   ]
  },
  {
   "cell_type": "markdown",
   "id": "999c94ce",
   "metadata": {},
   "source": [
    "# 2.FEATURE ENGINEERING"
   ]
  },
  {
   "cell_type": "markdown",
   "id": "f0125aa7",
   "metadata": {},
   "source": [
    "#VEMOS SI HAY VALORES NULOS"
   ]
  },
  {
   "cell_type": "code",
   "execution_count": 17,
   "id": "fed68f40",
   "metadata": {},
   "outputs": [
    {
     "data": {
      "text/plain": [
       "carat      0\n",
       "cut        0\n",
       "color      0\n",
       "clarity    0\n",
       "depth      0\n",
       "table      0\n",
       "price      0\n",
       "x          0\n",
       "y          0\n",
       "z          0\n",
       "dtype: int64"
      ]
     },
     "execution_count": 17,
     "metadata": {},
     "output_type": "execute_result"
    }
   ],
   "source": [
    "df.isnull().sum()"
   ]
  },
  {
   "cell_type": "code",
   "execution_count": 18,
   "id": "9db3e35c",
   "metadata": {},
   "outputs": [],
   "source": [
    "#TRANSFORMAMOS COLUMNAS CON VARIABLES CATEGORICAS EN VARIABLES NUMERICAS."
   ]
  },
  {
   "cell_type": "code",
   "execution_count": 19,
   "id": "fb91acb2",
   "metadata": {},
   "outputs": [],
   "source": [
    "df['cut'] = df['cut'].map({'Fair':1, 'Good':2, 'Very Good':3, 'Premium':4, 'Ideal':5})\n",
    "df['color'] = df['color'].map({'J':1, 'I':2, 'H':3, 'G':4, 'F':5, 'E':6, 'D':7})\n",
    "df['clarity'] = df['clarity'].map({'I1':1, 'SI2':2, 'SI1':3, 'VS2':4, 'VS1':5, 'VVS2':6, 'VVS1':7, 'IF':8})"
   ]
  },
  {
   "cell_type": "code",
   "execution_count": 20,
   "id": "d0e67b15",
   "metadata": {},
   "outputs": [
    {
     "data": {
      "text/html": [
       "<div>\n",
       "<style scoped>\n",
       "    .dataframe tbody tr th:only-of-type {\n",
       "        vertical-align: middle;\n",
       "    }\n",
       "\n",
       "    .dataframe tbody tr th {\n",
       "        vertical-align: top;\n",
       "    }\n",
       "\n",
       "    .dataframe thead th {\n",
       "        text-align: right;\n",
       "    }\n",
       "</style>\n",
       "<table border=\"1\" class=\"dataframe\">\n",
       "  <thead>\n",
       "    <tr style=\"text-align: right;\">\n",
       "      <th></th>\n",
       "      <th>carat</th>\n",
       "      <th>cut</th>\n",
       "      <th>color</th>\n",
       "      <th>clarity</th>\n",
       "      <th>depth</th>\n",
       "      <th>table</th>\n",
       "      <th>price</th>\n",
       "      <th>x</th>\n",
       "      <th>y</th>\n",
       "      <th>z</th>\n",
       "    </tr>\n",
       "  </thead>\n",
       "  <tbody>\n",
       "    <tr>\n",
       "      <th>1</th>\n",
       "      <td>0.23</td>\n",
       "      <td>5</td>\n",
       "      <td>6</td>\n",
       "      <td>2</td>\n",
       "      <td>61.5</td>\n",
       "      <td>55.0</td>\n",
       "      <td>326</td>\n",
       "      <td>3.95</td>\n",
       "      <td>3.98</td>\n",
       "      <td>2.43</td>\n",
       "    </tr>\n",
       "    <tr>\n",
       "      <th>2</th>\n",
       "      <td>0.21</td>\n",
       "      <td>4</td>\n",
       "      <td>6</td>\n",
       "      <td>3</td>\n",
       "      <td>59.8</td>\n",
       "      <td>61.0</td>\n",
       "      <td>326</td>\n",
       "      <td>3.89</td>\n",
       "      <td>3.84</td>\n",
       "      <td>2.31</td>\n",
       "    </tr>\n",
       "    <tr>\n",
       "      <th>3</th>\n",
       "      <td>0.23</td>\n",
       "      <td>2</td>\n",
       "      <td>6</td>\n",
       "      <td>5</td>\n",
       "      <td>56.9</td>\n",
       "      <td>65.0</td>\n",
       "      <td>327</td>\n",
       "      <td>4.05</td>\n",
       "      <td>4.07</td>\n",
       "      <td>2.31</td>\n",
       "    </tr>\n",
       "    <tr>\n",
       "      <th>4</th>\n",
       "      <td>0.29</td>\n",
       "      <td>4</td>\n",
       "      <td>2</td>\n",
       "      <td>4</td>\n",
       "      <td>62.4</td>\n",
       "      <td>58.0</td>\n",
       "      <td>334</td>\n",
       "      <td>4.20</td>\n",
       "      <td>4.23</td>\n",
       "      <td>2.63</td>\n",
       "    </tr>\n",
       "    <tr>\n",
       "      <th>5</th>\n",
       "      <td>0.31</td>\n",
       "      <td>2</td>\n",
       "      <td>1</td>\n",
       "      <td>2</td>\n",
       "      <td>63.3</td>\n",
       "      <td>58.0</td>\n",
       "      <td>335</td>\n",
       "      <td>4.34</td>\n",
       "      <td>4.35</td>\n",
       "      <td>2.75</td>\n",
       "    </tr>\n",
       "    <tr>\n",
       "      <th>...</th>\n",
       "      <td>...</td>\n",
       "      <td>...</td>\n",
       "      <td>...</td>\n",
       "      <td>...</td>\n",
       "      <td>...</td>\n",
       "      <td>...</td>\n",
       "      <td>...</td>\n",
       "      <td>...</td>\n",
       "      <td>...</td>\n",
       "      <td>...</td>\n",
       "    </tr>\n",
       "    <tr>\n",
       "      <th>96</th>\n",
       "      <td>0.70</td>\n",
       "      <td>2</td>\n",
       "      <td>6</td>\n",
       "      <td>4</td>\n",
       "      <td>57.5</td>\n",
       "      <td>58.0</td>\n",
       "      <td>2759</td>\n",
       "      <td>5.85</td>\n",
       "      <td>5.90</td>\n",
       "      <td>3.38</td>\n",
       "    </tr>\n",
       "    <tr>\n",
       "      <th>97</th>\n",
       "      <td>0.70</td>\n",
       "      <td>2</td>\n",
       "      <td>5</td>\n",
       "      <td>5</td>\n",
       "      <td>59.4</td>\n",
       "      <td>62.0</td>\n",
       "      <td>2759</td>\n",
       "      <td>5.71</td>\n",
       "      <td>5.76</td>\n",
       "      <td>3.40</td>\n",
       "    </tr>\n",
       "    <tr>\n",
       "      <th>98</th>\n",
       "      <td>0.96</td>\n",
       "      <td>1</td>\n",
       "      <td>5</td>\n",
       "      <td>2</td>\n",
       "      <td>66.3</td>\n",
       "      <td>62.0</td>\n",
       "      <td>2759</td>\n",
       "      <td>6.27</td>\n",
       "      <td>5.95</td>\n",
       "      <td>4.07</td>\n",
       "    </tr>\n",
       "    <tr>\n",
       "      <th>99</th>\n",
       "      <td>0.73</td>\n",
       "      <td>3</td>\n",
       "      <td>6</td>\n",
       "      <td>3</td>\n",
       "      <td>61.6</td>\n",
       "      <td>59.0</td>\n",
       "      <td>2760</td>\n",
       "      <td>5.77</td>\n",
       "      <td>5.78</td>\n",
       "      <td>3.56</td>\n",
       "    </tr>\n",
       "    <tr>\n",
       "      <th>100</th>\n",
       "      <td>0.80</td>\n",
       "      <td>4</td>\n",
       "      <td>3</td>\n",
       "      <td>3</td>\n",
       "      <td>61.5</td>\n",
       "      <td>58.0</td>\n",
       "      <td>2760</td>\n",
       "      <td>5.97</td>\n",
       "      <td>5.93</td>\n",
       "      <td>3.66</td>\n",
       "    </tr>\n",
       "  </tbody>\n",
       "</table>\n",
       "<p>100 rows × 10 columns</p>\n",
       "</div>"
      ],
      "text/plain": [
       "     carat  cut  color  clarity  depth  table  price     x     y     z\n",
       "1     0.23    5      6        2   61.5   55.0    326  3.95  3.98  2.43\n",
       "2     0.21    4      6        3   59.8   61.0    326  3.89  3.84  2.31\n",
       "3     0.23    2      6        5   56.9   65.0    327  4.05  4.07  2.31\n",
       "4     0.29    4      2        4   62.4   58.0    334  4.20  4.23  2.63\n",
       "5     0.31    2      1        2   63.3   58.0    335  4.34  4.35  2.75\n",
       "..     ...  ...    ...      ...    ...    ...    ...   ...   ...   ...\n",
       "96    0.70    2      6        4   57.5   58.0   2759  5.85  5.90  3.38\n",
       "97    0.70    2      5        5   59.4   62.0   2759  5.71  5.76  3.40\n",
       "98    0.96    1      5        2   66.3   62.0   2759  6.27  5.95  4.07\n",
       "99    0.73    3      6        3   61.6   59.0   2760  5.77  5.78  3.56\n",
       "100   0.80    4      3        3   61.5   58.0   2760  5.97  5.93  3.66\n",
       "\n",
       "[100 rows x 10 columns]"
      ]
     },
     "execution_count": 20,
     "metadata": {},
     "output_type": "execute_result"
    }
   ],
   "source": [
    "df.head(100)"
   ]
  },
  {
   "cell_type": "markdown",
   "id": "255c8551",
   "metadata": {},
   "source": [
    "# 3.ENTRENAMIENTO"
   ]
  },
  {
   "cell_type": "code",
   "execution_count": 21,
   "id": "3a5cfa44",
   "metadata": {},
   "outputs": [],
   "source": [
    "X = df.drop(['price'], axis=1)\n",
    "y = df['price']"
   ]
  },
  {
   "cell_type": "code",
   "execution_count": 22,
   "id": "4e80f0f9",
   "metadata": {},
   "outputs": [],
   "source": [
    "from sklearn.model_selection import train_test_split\n",
    "X_train, X_test, y_train, y_test = train_test_split(X,y,test_size=0.2, random_state=66)"
   ]
  },
  {
   "cell_type": "code",
   "execution_count": 23,
   "id": "591b7402",
   "metadata": {},
   "outputs": [],
   "source": [
    "#ESCALAMOS LOS DATOS."
   ]
  },
  {
   "cell_type": "code",
   "execution_count": 83,
   "id": "ddaa4189",
   "metadata": {},
   "outputs": [],
   "source": [
    "from sklearn.preprocessing import StandardScaler\n",
    "sc = StandardScaler()\n",
    "X_train = sc.fit_transform(X_train)\n",
    "X_test = sc.transform(X_test)"
   ]
  },
  {
   "cell_type": "code",
   "execution_count": 84,
   "id": "b1c7e588",
   "metadata": {},
   "outputs": [],
   "source": []
  },
  {
   "cell_type": "markdown",
   "id": "ef17ed20",
   "metadata": {},
   "source": [
    "# 4.EXACTITUD DEL MODELO"
   ]
  },
  {
   "cell_type": "markdown",
   "id": "62a08320",
   "metadata": {},
   "source": [
    "# Lineal Regresión Multiple"
   ]
  },
  {
   "cell_type": "code",
   "execution_count": 85,
   "id": "73c22847",
   "metadata": {},
   "outputs": [],
   "source": [
    "lr_multiple = linear_model.LinearRegression()"
   ]
  },
  {
   "cell_type": "code",
   "execution_count": 86,
   "id": "f076185b",
   "metadata": {},
   "outputs": [
    {
     "data": {
      "text/plain": [
       "LinearRegression()"
      ]
     },
     "execution_count": 86,
     "metadata": {},
     "output_type": "execute_result"
    }
   ],
   "source": [
    "lr_multiple.fit(X_train, y_train)"
   ]
  },
  {
   "cell_type": "code",
   "execution_count": 87,
   "id": "c8a865c7",
   "metadata": {},
   "outputs": [
    {
     "data": {
      "text/plain": [
       "array([4484.17842205, 5029.93744924,  176.84862163, ..., 1254.51569334,\n",
       "       5217.30087903, 3294.03690117])"
      ]
     },
     "execution_count": 87,
     "metadata": {},
     "output_type": "execute_result"
    }
   ],
   "source": [
    "y_pred = lr_multiple.predict(X_test)\n",
    "y_pred"
   ]
  },
  {
   "cell_type": "code",
   "execution_count": 88,
   "id": "d96dea9f",
   "metadata": {},
   "outputs": [
    {
     "data": {
      "text/plain": [
       "8521     4426\n",
       "10260    4751\n",
       "31527     765\n",
       "20347    8743\n",
       "29225     695\n",
       "         ... \n",
       "6204     3998\n",
       "11646    5053\n",
       "35130     888\n",
       "11356    4992\n",
       "51735    2401\n",
       "Name: price, Length: 10788, dtype: int64"
      ]
     },
     "execution_count": 88,
     "metadata": {},
     "output_type": "execute_result"
    }
   ],
   "source": [
    "y_test"
   ]
  },
  {
   "cell_type": "code",
   "execution_count": 89,
   "id": "add79ad2",
   "metadata": {},
   "outputs": [
    {
     "name": "stdout",
     "output_type": "stream",
     "text": [
      "DATOS DEL MODELO REGRESIÓN LINEAL MULTIPLE\n",
      "\n",
      "Valor de las pendientes o coeficientes \"a\":\n",
      "[5101.93452838  132.39460393  554.29796344  824.85546777 -102.32299859\n",
      "  -64.33257993 -848.78734263   65.78517422 -179.02540091]\n",
      "Valor de la intersección o coeficiente \"b\":\n",
      "3937.0886865035222\n"
     ]
    }
   ],
   "source": [
    "print('DATOS DEL MODELO REGRESIÓN LINEAL MULTIPLE')\n",
    "print()\n",
    "print('Valor de las pendientes o coeficientes \"a\":')\n",
    "print(lr_multiple.coef_)\n",
    "print('Valor de la intersección o coeficiente \"b\":')\n",
    "print(lr_multiple.intercept_)"
   ]
  },
  {
   "cell_type": "code",
   "execution_count": 90,
   "id": "f4dd2aae",
   "metadata": {},
   "outputs": [
    {
     "name": "stdout",
     "output_type": "stream",
     "text": [
      "Precisión del modelo:\n",
      "0.9071679845956869\n"
     ]
    }
   ],
   "source": [
    "print(\"Precisión del modelo:\")\n",
    "print(lr_multiple.score(X_train, y_train))"
   ]
  },
  {
   "cell_type": "markdown",
   "id": "0916a995",
   "metadata": {},
   "source": [
    "# Support Vector Machine (SVM)"
   ]
  },
  {
   "cell_type": "code",
   "execution_count": 91,
   "id": "26e74115",
   "metadata": {},
   "outputs": [],
   "source": [
    "from sklearn.svm import SVR"
   ]
  },
  {
   "cell_type": "code",
   "execution_count": 92,
   "id": "34aa0e20",
   "metadata": {},
   "outputs": [],
   "source": [
    "svr = SVR(kernel=\"linear\", C=1.0, epsilon=0.2)"
   ]
  },
  {
   "cell_type": "code",
   "execution_count": 93,
   "id": "a847a442",
   "metadata": {},
   "outputs": [
    {
     "data": {
      "text/plain": [
       "SVR(epsilon=0.2, kernel='linear')"
      ]
     },
     "execution_count": 93,
     "metadata": {},
     "output_type": "execute_result"
    }
   ],
   "source": [
    "svr.fit(X_train, y_train)"
   ]
  },
  {
   "cell_type": "code",
   "execution_count": 94,
   "id": "d627df93",
   "metadata": {},
   "outputs": [
    {
     "data": {
      "text/plain": [
       "array([4387.51456757, 4780.38917741,  292.67712252, ...,  978.31249611,\n",
       "       5449.04077553, 2707.46464953])"
      ]
     },
     "execution_count": 94,
     "metadata": {},
     "output_type": "execute_result"
    }
   ],
   "source": [
    "y_pred = svr.predict(X_test)\n",
    "y_pred"
   ]
  },
  {
   "cell_type": "code",
   "execution_count": 95,
   "id": "ba7ad937",
   "metadata": {},
   "outputs": [
    {
     "data": {
      "text/plain": [
       "8521     4426\n",
       "10260    4751\n",
       "31527     765\n",
       "20347    8743\n",
       "29225     695\n",
       "         ... \n",
       "6204     3998\n",
       "11646    5053\n",
       "35130     888\n",
       "11356    4992\n",
       "51735    2401\n",
       "Name: price, Length: 10788, dtype: int64"
      ]
     },
     "execution_count": 95,
     "metadata": {},
     "output_type": "execute_result"
    }
   ],
   "source": [
    "y_test"
   ]
  },
  {
   "cell_type": "code",
   "execution_count": 96,
   "id": "490f006d",
   "metadata": {
    "scrolled": true
   },
   "outputs": [
    {
     "name": "stdout",
     "output_type": "stream",
     "text": [
      "DATOS DEL MODELO VECTORES DE SOPORTE REGRESIÓN\n",
      "\n",
      "Precisión del modelo:\n",
      "0.8643914453956687\n"
     ]
    }
   ],
   "source": [
    "print(\"DATOS DEL MODELO VECTORES DE SOPORTE REGRESIÓN\")\n",
    "print()\n",
    "print(\"Precisión del modelo:\")\n",
    "print(svr.score(X_train, y_train))"
   ]
  },
  {
   "cell_type": "markdown",
   "id": "a0bc0065",
   "metadata": {},
   "source": [
    "# Decission Tree Regression"
   ]
  },
  {
   "cell_type": "code",
   "execution_count": 97,
   "id": "6009667e",
   "metadata": {},
   "outputs": [],
   "source": [
    "from sklearn.tree import DecisionTreeRegressor\n",
    "adr = DecisionTreeRegressor(max_depth=5)"
   ]
  },
  {
   "cell_type": "code",
   "execution_count": 98,
   "id": "ba668322",
   "metadata": {},
   "outputs": [
    {
     "data": {
      "text/plain": [
       "DecisionTreeRegressor(max_depth=5)"
      ]
     },
     "execution_count": 98,
     "metadata": {},
     "output_type": "execute_result"
    }
   ],
   "source": [
    "adr.fit(X_train, y_train)"
   ]
  },
  {
   "cell_type": "code",
   "execution_count": 99,
   "id": "491db95d",
   "metadata": {},
   "outputs": [
    {
     "data": {
      "text/plain": [
       "array([4360.96543408, 4606.70678796,  659.85733696, ...,  659.85733696,\n",
       "       5968.08367072, 1708.66157372])"
      ]
     },
     "execution_count": 99,
     "metadata": {},
     "output_type": "execute_result"
    }
   ],
   "source": [
    "y_pred = adr.predict(X_test)\n",
    "y_pred"
   ]
  },
  {
   "cell_type": "code",
   "execution_count": 100,
   "id": "26fa0206",
   "metadata": {},
   "outputs": [
    {
     "data": {
      "text/plain": [
       "8521     4426\n",
       "10260    4751\n",
       "31527     765\n",
       "20347    8743\n",
       "29225     695\n",
       "         ... \n",
       "6204     3998\n",
       "11646    5053\n",
       "35130     888\n",
       "11356    4992\n",
       "51735    2401\n",
       "Name: price, Length: 10788, dtype: int64"
      ]
     },
     "execution_count": 100,
     "metadata": {},
     "output_type": "execute_result"
    }
   ],
   "source": [
    "y_test"
   ]
  },
  {
   "cell_type": "code",
   "execution_count": 101,
   "id": "58bdb995",
   "metadata": {},
   "outputs": [
    {
     "name": "stdout",
     "output_type": "stream",
     "text": [
      "Datos del Modelo de árboles de decision Regresión\n",
      "\n",
      "Precisión del modelo:\n",
      "0.9393057626764753\n"
     ]
    }
   ],
   "source": [
    "print(\"Datos del Modelo de árboles de decision Regresión\")\n",
    "print()\n",
    "print(\"Precisión del modelo:\")\n",
    "print(adr.score(X_train, y_train))"
   ]
  },
  {
   "cell_type": "markdown",
   "id": "de4c2cf0",
   "metadata": {},
   "source": [
    "# Regresión Líneal Polinomial"
   ]
  },
  {
   "cell_type": "code",
   "execution_count": 102,
   "id": "9d05ad68",
   "metadata": {},
   "outputs": [],
   "source": [
    "from sklearn.preprocessing import PolynomialFeatures"
   ]
  },
  {
   "cell_type": "code",
   "execution_count": 103,
   "id": "71d98c72",
   "metadata": {},
   "outputs": [],
   "source": [
    "poli_reg = PolynomialFeatures(degree= 2)"
   ]
  },
  {
   "cell_type": "code",
   "execution_count": 104,
   "id": "9aad1b6c",
   "metadata": {},
   "outputs": [],
   "source": [
    "X_train_poli = poli_reg.fit_transform(X_train)\n",
    "X_test_poli = poli_reg.fit_transform(X_test)"
   ]
  },
  {
   "cell_type": "code",
   "execution_count": 105,
   "id": "98e3c2e9",
   "metadata": {},
   "outputs": [],
   "source": [
    "pr = linear_model.LinearRegression()"
   ]
  },
  {
   "cell_type": "code",
   "execution_count": 106,
   "id": "3090b81b",
   "metadata": {},
   "outputs": [
    {
     "data": {
      "text/plain": [
       "LinearRegression()"
      ]
     },
     "execution_count": 106,
     "metadata": {},
     "output_type": "execute_result"
    }
   ],
   "source": [
    "pr.fit(X_train_poli, y_train)"
   ]
  },
  {
   "cell_type": "code",
   "execution_count": 107,
   "id": "9adb9e85",
   "metadata": {},
   "outputs": [
    {
     "data": {
      "text/plain": [
       "array([3982.79946814, 4471.34082229,  648.34105644, ...,  793.55377916,\n",
       "       4231.92075095, 2604.41153694])"
      ]
     },
     "execution_count": 107,
     "metadata": {},
     "output_type": "execute_result"
    }
   ],
   "source": [
    "y_pred = pr.predict(X_test_poli)\n",
    "y_pred"
   ]
  },
  {
   "cell_type": "code",
   "execution_count": 108,
   "id": "f5713173",
   "metadata": {},
   "outputs": [
    {
     "data": {
      "text/plain": [
       "8521     4426\n",
       "10260    4751\n",
       "31527     765\n",
       "20347    8743\n",
       "29225     695\n",
       "         ... \n",
       "6204     3998\n",
       "11646    5053\n",
       "35130     888\n",
       "11356    4992\n",
       "51735    2401\n",
       "Name: price, Length: 10788, dtype: int64"
      ]
     },
     "execution_count": 108,
     "metadata": {},
     "output_type": "execute_result"
    }
   ],
   "source": [
    "y_test"
   ]
  },
  {
   "cell_type": "code",
   "execution_count": 109,
   "id": "e5a2f3ba",
   "metadata": {},
   "outputs": [
    {
     "name": "stdout",
     "output_type": "stream",
     "text": [
      "Precisión del modelo: \n",
      "0.9641845720290443\n"
     ]
    }
   ],
   "source": [
    "print(\"Precisión del modelo: \")\n",
    "print(pr.score(X_train_poli, y_train))"
   ]
  },
  {
   "cell_type": "markdown",
   "id": "8ae8dfe5",
   "metadata": {},
   "source": [
    "# Random Forest Regression"
   ]
  },
  {
   "cell_type": "code",
   "execution_count": 110,
   "id": "fbd34b51",
   "metadata": {},
   "outputs": [],
   "source": [
    "from sklearn.ensemble import RandomForestRegressor\n",
    "bar = RandomForestRegressor(n_estimators=300, max_depth=8)"
   ]
  },
  {
   "cell_type": "code",
   "execution_count": 111,
   "id": "8e620bf7",
   "metadata": {},
   "outputs": [
    {
     "data": {
      "text/plain": [
       "RandomForestRegressor(max_depth=8, n_estimators=300)"
      ]
     },
     "execution_count": 111,
     "metadata": {},
     "output_type": "execute_result"
    }
   ],
   "source": [
    "bar.fit(X_train, y_train)"
   ]
  },
  {
   "cell_type": "code",
   "execution_count": 112,
   "id": "bccbab85",
   "metadata": {},
   "outputs": [
    {
     "data": {
      "text/plain": [
       "array([4332.37061775, 4222.48523718,  621.11475868, ...,  743.42705169,\n",
       "       5360.70132951, 1920.97696896])"
      ]
     },
     "execution_count": 112,
     "metadata": {},
     "output_type": "execute_result"
    }
   ],
   "source": [
    "y_pred = bar.predict(X_test)\n",
    "y_pred"
   ]
  },
  {
   "cell_type": "code",
   "execution_count": 113,
   "id": "32dd12ae",
   "metadata": {},
   "outputs": [
    {
     "data": {
      "text/plain": [
       "8521     4426\n",
       "10260    4751\n",
       "31527     765\n",
       "20347    8743\n",
       "29225     695\n",
       "         ... \n",
       "6204     3998\n",
       "11646    5053\n",
       "35130     888\n",
       "11356    4992\n",
       "51735    2401\n",
       "Name: price, Length: 10788, dtype: int64"
      ]
     },
     "execution_count": 113,
     "metadata": {},
     "output_type": "execute_result"
    }
   ],
   "source": [
    "y_test"
   ]
  },
  {
   "cell_type": "code",
   "execution_count": 114,
   "id": "b91619a9",
   "metadata": {},
   "outputs": [
    {
     "name": "stdout",
     "output_type": "stream",
     "text": [
      "Datos del modelo Bosques Aleatorios Regresión\n",
      "\n",
      "precisión del modelo:\n",
      "0.9777325673451588\n"
     ]
    }
   ],
   "source": [
    "print(\"Datos del modelo Bosques Aleatorios Regresión\")\n",
    "print()\n",
    "print(\"precisión del modelo:\")\n",
    "print(bar.score(X_train, y_train))"
   ]
  },
  {
   "cell_type": "markdown",
   "id": "6582f9fc",
   "metadata": {},
   "source": [
    "# Random Forest Regression NOS DA LA MAYOR PRECISIÓN == 97.77"
   ]
  },
  {
   "cell_type": "code",
   "execution_count": null,
   "id": "8226d218",
   "metadata": {},
   "outputs": [],
   "source": []
  },
  {
   "cell_type": "markdown",
   "id": "8b6842f2",
   "metadata": {},
   "source": [
    "# 5.SI TENEMOS UN DIAMANTE CON LAS SIGUIENTES MEDICIONES, QUE PRECIO TENDRIA...."
   ]
  },
  {
   "cell_type": "code",
   "execution_count": 115,
   "id": "6e7deec3",
   "metadata": {},
   "outputs": [],
   "source": [
    "prueba = [[1.2, 6.0, 6.0, 4.0, 58.0, 90.1, 3.90, 3.94, 2.50]]"
   ]
  },
  {
   "cell_type": "code",
   "execution_count": 116,
   "id": "b8efa6fb",
   "metadata": {},
   "outputs": [
    {
     "data": {
      "text/plain": [
       "array([15245.3467154])"
      ]
     },
     "execution_count": 116,
     "metadata": {},
     "output_type": "execute_result"
    }
   ],
   "source": [
    "resultado_prueba = bar.predict(prueba)\n",
    "resultado_prueba"
   ]
  },
  {
   "cell_type": "markdown",
   "id": "1c90d0e3",
   "metadata": {},
   "source": [
    "# EL PRECIO SERIA DE == 15595.6 $$$"
   ]
  },
  {
   "cell_type": "code",
   "execution_count": null,
   "id": "7098fc63",
   "metadata": {},
   "outputs": [],
   "source": [
    "#ESCALAMOS LOS DATOS."
   ]
  },
  {
   "cell_type": "code",
   "execution_count": 117,
   "id": "0856f270",
   "metadata": {},
   "outputs": [],
   "source": [
    "from sklearn.preprocessing import StandardScaler\n",
    "sc = StandardScaler()\n",
    "X_train = sc.fit_transform(X_train)\n",
    "X_test = sc.transform(X_test)"
   ]
  },
  {
   "cell_type": "code",
   "execution_count": 118,
   "id": "a7568705",
   "metadata": {},
   "outputs": [],
   "source": [
    "lr_multiple = linear_model.LinearRegression()"
   ]
  },
  {
   "cell_type": "code",
   "execution_count": 119,
   "id": "4cffd464",
   "metadata": {},
   "outputs": [
    {
     "data": {
      "text/plain": [
       "LinearRegression()"
      ]
     },
     "execution_count": 119,
     "metadata": {},
     "output_type": "execute_result"
    }
   ],
   "source": [
    "lr_multiple.fit(X_train, y_train)"
   ]
  },
  {
   "cell_type": "code",
   "execution_count": 120,
   "id": "092f2432",
   "metadata": {},
   "outputs": [
    {
     "data": {
      "text/plain": [
       "array([4484.17842205, 5029.93744924,  176.84862163, ..., 1254.51569334,\n",
       "       5217.30087903, 3294.03690117])"
      ]
     },
     "execution_count": 120,
     "metadata": {},
     "output_type": "execute_result"
    }
   ],
   "source": [
    "y_pred = lr_multiple.predict(X_test)\n",
    "y_pred"
   ]
  },
  {
   "cell_type": "code",
   "execution_count": 121,
   "id": "5e1afe29",
   "metadata": {},
   "outputs": [
    {
     "data": {
      "text/plain": [
       "8521     4426\n",
       "10260    4751\n",
       "31527     765\n",
       "20347    8743\n",
       "29225     695\n",
       "         ... \n",
       "6204     3998\n",
       "11646    5053\n",
       "35130     888\n",
       "11356    4992\n",
       "51735    2401\n",
       "Name: price, Length: 10788, dtype: int64"
      ]
     },
     "execution_count": 121,
     "metadata": {},
     "output_type": "execute_result"
    }
   ],
   "source": [
    "y_test"
   ]
  },
  {
   "cell_type": "code",
   "execution_count": 122,
   "id": "e8a33ed2",
   "metadata": {},
   "outputs": [
    {
     "name": "stdout",
     "output_type": "stream",
     "text": [
      "DATOS DEL MODELO REGRESIÓN LINEAL MULTIPLE\n",
      "\n",
      "Valor de las pendientes o coeficientes \"a\":\n",
      "[5101.93452838  132.39460393  554.29796344  824.85546777 -102.32299859\n",
      "  -64.33257993 -848.78734263   65.78517422 -179.02540091]\n",
      "Valor de la intersección o coeficiente \"b\":\n",
      "3937.0886865035222\n"
     ]
    }
   ],
   "source": [
    "print('DATOS DEL MODELO REGRESIÓN LINEAL MULTIPLE')\n",
    "print()\n",
    "print('Valor de las pendientes o coeficientes \"a\":')\n",
    "print(lr_multiple.coef_)\n",
    "print('Valor de la intersección o coeficiente \"b\":')\n",
    "print(lr_multiple.intercept_)"
   ]
  },
  {
   "cell_type": "code",
   "execution_count": 123,
   "id": "25d53c95",
   "metadata": {},
   "outputs": [
    {
     "name": "stdout",
     "output_type": "stream",
     "text": [
      "Precisión del modelo:\n",
      "0.9071679845956869\n"
     ]
    }
   ],
   "source": [
    "print(\"Precisión del modelo:\")\n",
    "print(lr_multiple.score(X_train, y_train))"
   ]
  }
 ],
 "metadata": {
  "kernelspec": {
   "display_name": "Python 3 (ipykernel)",
   "language": "python",
   "name": "python3"
  },
  "language_info": {
   "codemirror_mode": {
    "name": "ipython",
    "version": 3
   },
   "file_extension": ".py",
   "mimetype": "text/x-python",
   "name": "python",
   "nbconvert_exporter": "python",
   "pygments_lexer": "ipython3",
   "version": "3.8.10"
  }
 },
 "nbformat": 4,
 "nbformat_minor": 5
}
